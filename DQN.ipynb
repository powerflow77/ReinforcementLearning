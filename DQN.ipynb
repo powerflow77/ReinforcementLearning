{
  "cells": [
    {
      "cell_type": "markdown",
      "source": [
        "## The Start\n",
        "- DQN으로 카트폴 푸는 것은 꽤나 어렵다...!"
      ],
      "metadata": {
        "id": "B3A5NrWX67C2"
      }
    },
    {
      "cell_type": "code",
      "execution_count": 18,
      "metadata": {
        "colab": {
          "base_uri": "https://localhost:8080/"
        },
        "id": "d0iCTfq5XoTO",
        "outputId": "d710a475-e9ef-4b58-c54f-af28a555583e"
      },
      "outputs": [
        {
          "output_type": "stream",
          "name": "stderr",
          "text": [
            "/usr/local/lib/python3.10/dist-packages/ipykernel/ipkernel.py:283: DeprecationWarning: `should_run_async` will not call `transform_cell` automatically in the future. Please pass the result to `transformed_cell` argument and any exception that happen during thetransform in `preprocessing_exc_tuple` in IPython 7.17 and above.\n",
            "  and should_run_async(code)\n"
          ]
        },
        {
          "output_type": "execute_result",
          "data": {
            "text/plain": [
              "<torch._C.Generator at 0x7d98281e4950>"
            ]
          },
          "metadata": {},
          "execution_count": 18
        }
      ],
      "source": [
        "import gym\n",
        "import copy\n",
        "import random\n",
        "import numpy as np\n",
        "import pandas as pd\n",
        "from tqdm import tqdm\n",
        "from collections import deque\n",
        "import matplotlib.pyplot as plt\n",
        "\n",
        "import torch\n",
        "import torch.nn as nn\n",
        "import torch.optim as optim\n",
        "import torch.nn.functional as F\n",
        "\n",
        "SEED = 511\n",
        "np.random.seed(SEED)\n",
        "torch.manual_seed(SEED)"
      ]
    },
    {
      "cell_type": "code",
      "source": [
        "################################## set device ##################################\n",
        "print(\"============================================================================================\")\n",
        "# set device to cpu or cuda\n",
        "device = torch.device('cpu')\n",
        "if(torch.cuda.is_available()):\n",
        "    device = torch.device('cuda:0')\n",
        "    torch.cuda.empty_cache()\n",
        "    print(\"Device set to : \" + str(torch.cuda.get_device_name(device)))\n",
        "else:\n",
        "    print(\"Device set to : cpu\")\n",
        "print(\"============================================================================================\")"
      ],
      "metadata": {
        "colab": {
          "base_uri": "https://localhost:8080/"
        },
        "id": "_fOPPYIQ4QPi",
        "outputId": "502f7019-fc5c-4de6-8e90-fe649bc650ed"
      },
      "execution_count": 19,
      "outputs": [
        {
          "output_type": "stream",
          "name": "stdout",
          "text": [
            "============================================================================================\n",
            "Device set to : NVIDIA A100-SXM4-40GB\n",
            "============================================================================================\n"
          ]
        }
      ]
    },
    {
      "cell_type": "markdown",
      "metadata": {
        "id": "iLl89InOXoTP"
      },
      "source": [
        "## QNetwork"
      ]
    },
    {
      "cell_type": "code",
      "execution_count": 20,
      "metadata": {
        "id": "nZ5xx5EHXoTP"
      },
      "outputs": [],
      "source": [
        "class QNetwork(nn.Module):\n",
        "    def __init__(self, state_dim, num_action):\n",
        "        super(QNetwork, self).__init__()\n",
        "        self.fc1 = nn.Linear(state_dim, 128)\n",
        "        self.fc2 = nn.Linear(128, 128)\n",
        "        self.fc3 = nn.Linear(128, num_action)\n",
        "        # DQN은 선택 가능한 action들 중 하나를 선택하므로\n",
        "        # num_action이라고 표기하는 게 합리적임.\n",
        "\n",
        "    def forward(self, x):\n",
        "        x = F.elu(self.fc1(x))\n",
        "        x = F.elu(self.fc2(x))\n",
        "        x = self.fc3(x)\n",
        "        return x"
      ]
    },
    {
      "cell_type": "markdown",
      "metadata": {
        "id": "ZdNsEc2EXoTQ"
      },
      "source": [
        "## Replay Buffer\n",
        "- experience 저장 및 샘플링해서 학습에 사용"
      ]
    },
    {
      "cell_type": "code",
      "execution_count": 21,
      "metadata": {
        "id": "xDJ9tZtSXoTR"
      },
      "outputs": [],
      "source": [
        "# state는 처음 들어올 때    [-1.3424444  -0.03701451 -0.0992636   1.4787225 ] 형태로 들어옴\n",
        "# action은 처음 들어올 때   scalar 1 형태로 들어옴\n",
        "\n",
        "\n",
        "class ReplayBuffer:\n",
        "    def __init__(self, state_dim, buff_size):\n",
        "        self.state_buff = np.zeros([buff_size, state_dim], dtype=np.float32)\n",
        "        self.action_buff = np.zeros([buff_size, 1], dtype=np.long)\n",
        "        self.reward_buff = np.zeros([buff_size, 1], dtype=np.float32)\n",
        "        self.next_state_buff = np.zeros([buff_size, state_dim], dtype=np.float32)\n",
        "        self.done_buff = np.zeros([buff_size, 1], dtype=np.float32)\n",
        "\n",
        "        self.ptr = 0\n",
        "        self.size = 0\n",
        "        self.max_size = buff_size\n",
        "\n",
        "    def store(self, state, action, reward, next_state, done):\n",
        "        self.state_buff[self.ptr] = state\n",
        "        self.action_buff[self.ptr] = action\n",
        "        self.reward_buff[self.ptr] = reward\n",
        "        self.next_state_buff[self.ptr] = next_state\n",
        "        self.done_buff[self.ptr] = done\n",
        "\n",
        "        self.ptr = (self.ptr + 1) % self.max_size\n",
        "        self.size = min(self.size + 1, self.max_size)\n",
        "\n",
        "    def sample(self):\n",
        "        idx= np.random.randint(0, self.size, size=256) # 랜덤하게 experience를 뽑아옴\n",
        "\n",
        "        return dict(state=torch.tensor(self.state_buff[idx], dtype=torch.float32).to(device),\n",
        "                    action=torch.tensor(self.action_buff[idx], dtype=torch.long).to(device),\n",
        "                    reward=torch.tensor(self.reward_buff[idx], dtype=torch.float32).to(device),\n",
        "                    next_state=torch.tensor(self.next_state_buff[idx], dtype=torch.float32).to(device),\n",
        "                    done=torch.tensor(self.done_buff[idx]).to(device)\n",
        "                    )"
      ]
    },
    {
      "cell_type": "markdown",
      "metadata": {
        "id": "CzWeyHx3XoTR"
      },
      "source": [
        "## Agent"
      ]
    },
    {
      "cell_type": "code",
      "execution_count": 22,
      "metadata": {
        "id": "MdBmuyawXoTR"
      },
      "outputs": [],
      "source": [
        "class Agent:\n",
        "    def __init__(self, state_dim, num_action):\n",
        "        self.eps = 0.99\n",
        "        self.eps_min = 0.03\n",
        "        self.eps_decay = 0.94\n",
        "        self.gamma = 0.98\n",
        "        self.target_update_freq = 3\n",
        "\n",
        "        self.qnet = QNetwork(state_dim, num_action).to(device)\n",
        "        self.target_qnet = copy.deepcopy(self.qnet)\n",
        "        self.optimizer = optim.Adam(self.qnet.parameters(), lr=0.00056)\n",
        "        self.criterion = nn.MSELoss()\n",
        "\n",
        "    def get_action(self, state, timestep):\n",
        "        if (timestep == 1):\n",
        "            self.eps = 0.99 # 초기에는 매우 높은 확률로 Random_Action 시킴.\n",
        "\n",
        "        elif (self.eps >= self.eps_min): # min보다 클 때는 eps 계속 낮춰줌.\n",
        "            self.eps *= self.eps_decay\n",
        "\n",
        "        elif (self.eps < self.eps_min): # 시간 지나면 eps_min값으로 고정.\n",
        "            self.eps = self.eps_min\n",
        "\n",
        "        if random.random() > self.eps:\n",
        "            action = self.qnet(state).detach().squeeze().cpu().numpy().argmax(axis=0)\n",
        "            return int(action)\n",
        "        else:\n",
        "            action = env.action_space.sample()\n",
        "            return int(action)\n",
        "\n",
        "\n",
        "    def learn(self, batch, current_epi):\n",
        "        state = batch['state'] # tensor([[-1.0468, -0.8232,  1.4239,  0.4460],\n",
        "        #                                [-8.8516e-01,  4.3342e-02,  1.6168e+00, -7.7498e-01], .......<class 'torch.Tensor'>\n",
        "\n",
        "        action = batch['action'] # tensor([[1],\n",
        "        #                                  [0],\n",
        "        #                                  [0],\n",
        "\n",
        "        reward = batch['reward'] # tensor([[1.],\n",
        "        #                                  [1.],\n",
        "        #                                  [1.],\n",
        "\n",
        "        next_state = batch['next_state'] # state와 같음\n",
        "\n",
        "        done = batch['done'] #tensor([[0.],\n",
        "        #                             [0.],\n",
        "        #                             [0.],\n",
        "\n",
        "\n",
        "        # Q(S,A)에 해당하는 부분임.\n",
        "        # Q값은 ANN으로 예측한 건데, 그 중에서 실제로 했던 action을 gather 활용해 찾음.\n",
        "        # dim=1이니까 0열과 1열 중에서 index에 맞는 것들을 골라올 거임\n",
        "        current_q = self.qnet(state).gather(dim=1, index=action) # tensor([[0.3761],\n",
        "        #                                                                  [0.3822],\n",
        "        #                                                                  [0.3724],....... grad_fn=<GatherBackward0>)\n",
        "\n",
        "        # max Q(S',A')에 해당하는 부분임.\n",
        "        # 각 행마다 0과 1에 대하여 Q값이 나왔는데, dim=1이니까 max에 해당하는 열만 뽑아옴\n",
        "        next_q = self.target_qnet(next_state).max(dim=1)[0].reshape(-1, 1)#tensor([[0.3761],\n",
        "        #                                                                          [0.3822],\n",
        "        #                                                                          [0.3724],....... grad_fn=<ReshapeAliasBackward0>)\n",
        "\n",
        "        # R + gamma * max Q(S',A')\n",
        "        td_target = reward + self.gamma * next_q * (1-done)\n",
        "\n",
        "        # td_error = td_target - current_q\n",
        "        loss = self.criterion(current_q, td_target)\n",
        "\n",
        "        self.optimizer.zero_grad()\n",
        "        loss.backward()\n",
        "\n",
        "        # Q(S,A) <---- Q(S,A) + alpha*[R + gamma*max Q(S',A') - Q(S,A)]\n",
        "        self.optimizer.step()\n",
        "\n",
        "        # 때마다 Target_Network를 업데이트 해줌.\n",
        "        if current_epi % self.target_update_freq == 0:\n",
        "            self.target_qnet.load_state_dict(self.qnet.state_dict())\n"
      ]
    },
    {
      "cell_type": "markdown",
      "source": [
        "## Config."
      ],
      "metadata": {
        "id": "Dd_Uo2O54RmB"
      }
    },
    {
      "cell_type": "code",
      "source": [
        "# new_step_api ---> gym에서 step 메소드에 대한 업데이트 사항.\n",
        "env = gym.make('CartPole-v1', new_step_api=True, render_mode='human')\n",
        "env.reset(SEED)\n",
        "\n",
        "state_dim = env.observation_space.shape[0]\n",
        "num_action = env.action_space.n\n",
        "\n",
        "# 카트폴에서는 Episode 300쯤 가야 50_000개 채움.\n",
        "# 초기에 쌓았던 질 나쁜 데이터 물갈이 하려면\n",
        "# Buffer_Size를 너무 키우면 안 됨.\n",
        "# i.e. Buffer_Size를 겜 봐가면서 설정해야 한다.\n",
        "memory = ReplayBuffer(state_dim, buff_size=25_000)\n",
        "agent = Agent(state_dim, num_action)"
      ],
      "metadata": {
        "colab": {
          "base_uri": "https://localhost:8080/"
        },
        "id": "YKsiJ5h1daoc",
        "outputId": "2a78a906-83a6-466f-bc3c-ca18c080c45f"
      },
      "execution_count": 23,
      "outputs": [
        {
          "output_type": "stream",
          "name": "stderr",
          "text": [
            "/usr/local/lib/python3.10/dist-packages/gym/core.py:256: DeprecationWarning: \u001b[33mWARN: Function `env.seed(seed)` is marked as deprecated and will be removed in the future. Please use `env.reset(seed=seed)` instead.\u001b[0m\n",
            "  deprecation(\n",
            "<ipython-input-21-d9065dee603d>:8: DeprecationWarning: `np.long` is a deprecated alias for `np.compat.long`. To silence this warning, use `np.compat.long` by itself. In the likely event your code does not need to work on Python 2 you can use the builtin `int` for which `np.compat.long` is itself an alias. Doing this will not modify any behaviour and is safe. When replacing `np.long`, you may wish to use e.g. `np.int64` or `np.int32` to specify the precision. If you wish to review your current use, check the release note link for additional information.\n",
            "Deprecated in NumPy 1.20; for more details and guidance: https://numpy.org/devdocs/release/1.20.0-notes.html#deprecations\n",
            "  self.action_buff = np.zeros([buff_size, 1], dtype=np.long)\n"
          ]
        }
      ]
    },
    {
      "cell_type": "markdown",
      "source": [
        "## Training"
      ],
      "metadata": {
        "id": "WUPb9yCV4TMS"
      }
    },
    {
      "cell_type": "code",
      "source": [
        "total_reward = []\n",
        "\n",
        "for epi in tqdm(range(1, 300+1)):\n",
        "\n",
        "    state = env.reset()\n",
        "    # [-0.00824687  0.03277586 -0.00118139  0.0188767 ], (4,)\n",
        "\n",
        "    done = False\n",
        "\n",
        "    timestep = int(0)\n",
        "    reward_per_epi = 0.0\n",
        "    while not done:\n",
        "        timestep += int(1)\n",
        "\n",
        "        action = agent.get_action(torch.tensor(state, dtype=torch.float32).to(device), timestep=timestep)\n",
        "\n",
        "        info = env.step(action)\n",
        "        next_state = info[0]\n",
        "        reward = info[1]\n",
        "        done = info[2]\n",
        "\n",
        "        memory.store(state, action, reward, next_state, done)\n",
        "\n",
        "        state = next_state\n",
        "\n",
        "        if memory.size >= 500:\n",
        "            batch = memory.sample()\n",
        "            agent.learn(batch, current_epi=epi)\n",
        "\n",
        "        reward_per_epi += reward\n",
        "\n",
        "        # 가끔씩 안 끝나서 만들어줬음.\n",
        "        if reward_per_epi >= 450.0:\n",
        "            done = True\n",
        "\n",
        "    if epi % 10 == 0:\n",
        "        print(f'[Epi]:{epi}  |  [Buff_Size]: {memory.size}  |  [Cum_Reward]: {reward_per_epi}')\n",
        "\n",
        "    total_reward.append( reward_per_epi )"
      ],
      "metadata": {
        "colab": {
          "base_uri": "https://localhost:8080/"
        },
        "id": "aUi8hYr7c5wr",
        "outputId": "f48b099f-e2f4-4d96-d07f-72a93f61e8d7"
      },
      "execution_count": 24,
      "outputs": [
        {
          "output_type": "stream",
          "name": "stderr",
          "text": [
            "  3%|▎         | 10/300 [00:04<02:11,  2.20it/s]"
          ]
        },
        {
          "output_type": "stream",
          "name": "stdout",
          "text": [
            "[Epi]:10  |  [Buff_Size]: 196  |  [Cum_Reward]: 34.0\n"
          ]
        },
        {
          "output_type": "stream",
          "name": "stderr",
          "text": [
            "  7%|▋         | 20/300 [00:08<02:09,  2.16it/s]"
          ]
        },
        {
          "output_type": "stream",
          "name": "stdout",
          "text": [
            "[Epi]:20  |  [Buff_Size]: 378  |  [Cum_Reward]: 34.0\n"
          ]
        },
        {
          "output_type": "stream",
          "name": "stderr",
          "text": [
            " 10%|█         | 30/300 [00:12<01:52,  2.40it/s]"
          ]
        },
        {
          "output_type": "stream",
          "name": "stdout",
          "text": [
            "[Epi]:30  |  [Buff_Size]: 568  |  [Cum_Reward]: 15.0\n"
          ]
        },
        {
          "output_type": "stream",
          "name": "stderr",
          "text": [
            " 13%|█▎        | 40/300 [00:17<02:39,  1.63it/s]"
          ]
        },
        {
          "output_type": "stream",
          "name": "stdout",
          "text": [
            "[Epi]:40  |  [Buff_Size]: 820  |  [Cum_Reward]: 15.0\n"
          ]
        },
        {
          "output_type": "stream",
          "name": "stderr",
          "text": [
            " 17%|█▋        | 50/300 [00:37<09:20,  2.24s/it]"
          ]
        },
        {
          "output_type": "stream",
          "name": "stdout",
          "text": [
            "[Epi]:50  |  [Buff_Size]: 1789  |  [Cum_Reward]: 12.0\n"
          ]
        },
        {
          "output_type": "stream",
          "name": "stderr",
          "text": [
            " 20%|██        | 60/300 [01:37<22:02,  5.51s/it]"
          ]
        },
        {
          "output_type": "stream",
          "name": "stdout",
          "text": [
            "[Epi]:60  |  [Buff_Size]: 4813  |  [Cum_Reward]: 256.0\n"
          ]
        },
        {
          "output_type": "stream",
          "name": "stderr",
          "text": [
            " 23%|██▎       | 70/300 [02:04<05:39,  1.48s/it]"
          ]
        },
        {
          "output_type": "stream",
          "name": "stdout",
          "text": [
            "[Epi]:70  |  [Buff_Size]: 6131  |  [Cum_Reward]: 9.0\n"
          ]
        },
        {
          "output_type": "stream",
          "name": "stderr",
          "text": [
            " 27%|██▋       | 80/300 [02:53<18:06,  4.94s/it]"
          ]
        },
        {
          "output_type": "stream",
          "name": "stdout",
          "text": [
            "[Epi]:80  |  [Buff_Size]: 8534  |  [Cum_Reward]: 266.0\n"
          ]
        },
        {
          "output_type": "stream",
          "name": "stderr",
          "text": [
            " 30%|███       | 90/300 [03:37<15:51,  4.53s/it]"
          ]
        },
        {
          "output_type": "stream",
          "name": "stdout",
          "text": [
            "[Epi]:90  |  [Buff_Size]: 10724  |  [Cum_Reward]: 252.0\n"
          ]
        },
        {
          "output_type": "stream",
          "name": "stderr",
          "text": [
            " 33%|███▎      | 100/300 [04:18<11:45,  3.53s/it]"
          ]
        },
        {
          "output_type": "stream",
          "name": "stdout",
          "text": [
            "[Epi]:100  |  [Buff_Size]: 12752  |  [Cum_Reward]: 14.0\n"
          ]
        },
        {
          "output_type": "stream",
          "name": "stderr",
          "text": [
            " 37%|███▋      | 110/300 [05:03<10:18,  3.26s/it]"
          ]
        },
        {
          "output_type": "stream",
          "name": "stdout",
          "text": [
            "[Epi]:110  |  [Buff_Size]: 14975  |  [Cum_Reward]: 15.0\n"
          ]
        },
        {
          "output_type": "stream",
          "name": "stderr",
          "text": [
            " 40%|████      | 120/300 [05:40<10:36,  3.54s/it]"
          ]
        },
        {
          "output_type": "stream",
          "name": "stdout",
          "text": [
            "[Epi]:120  |  [Buff_Size]: 16804  |  [Cum_Reward]: 154.0\n"
          ]
        },
        {
          "output_type": "stream",
          "name": "stderr",
          "text": [
            " 43%|████▎     | 130/300 [06:10<09:11,  3.24s/it]"
          ]
        },
        {
          "output_type": "stream",
          "name": "stdout",
          "text": [
            "[Epi]:130  |  [Buff_Size]: 18298  |  [Cum_Reward]: 172.0\n"
          ]
        },
        {
          "output_type": "stream",
          "name": "stderr",
          "text": [
            " 47%|████▋     | 140/300 [06:24<02:56,  1.10s/it]"
          ]
        },
        {
          "output_type": "stream",
          "name": "stdout",
          "text": [
            "[Epi]:140  |  [Buff_Size]: 19013  |  [Cum_Reward]: 21.0\n"
          ]
        },
        {
          "output_type": "stream",
          "name": "stderr",
          "text": [
            " 50%|█████     | 150/300 [06:52<08:29,  3.40s/it]"
          ]
        },
        {
          "output_type": "stream",
          "name": "stdout",
          "text": [
            "[Epi]:150  |  [Buff_Size]: 20390  |  [Cum_Reward]: 170.0\n"
          ]
        },
        {
          "output_type": "stream",
          "name": "stderr",
          "text": [
            " 53%|█████▎    | 160/300 [07:11<02:19,  1.00it/s]"
          ]
        },
        {
          "output_type": "stream",
          "name": "stdout",
          "text": [
            "[Epi]:160  |  [Buff_Size]: 21290  |  [Cum_Reward]: 10.0\n"
          ]
        },
        {
          "output_type": "stream",
          "name": "stderr",
          "text": [
            " 57%|█████▋    | 170/300 [07:30<04:46,  2.21s/it]"
          ]
        },
        {
          "output_type": "stream",
          "name": "stdout",
          "text": [
            "[Epi]:170  |  [Buff_Size]: 22245  |  [Cum_Reward]: 138.0\n"
          ]
        },
        {
          "output_type": "stream",
          "name": "stderr",
          "text": [
            " 60%|██████    | 180/300 [08:10<09:56,  4.97s/it]"
          ]
        },
        {
          "output_type": "stream",
          "name": "stdout",
          "text": [
            "[Epi]:180  |  [Buff_Size]: 24240  |  [Cum_Reward]: 262.0\n"
          ]
        },
        {
          "output_type": "stream",
          "name": "stderr",
          "text": [
            " 63%|██████▎   | 190/300 [08:45<07:47,  4.25s/it]"
          ]
        },
        {
          "output_type": "stream",
          "name": "stdout",
          "text": [
            "[Epi]:190  |  [Buff_Size]: 25000  |  [Cum_Reward]: 213.0\n"
          ]
        },
        {
          "output_type": "stream",
          "name": "stderr",
          "text": [
            " 67%|██████▋   | 200/300 [09:23<05:01,  3.02s/it]"
          ]
        },
        {
          "output_type": "stream",
          "name": "stdout",
          "text": [
            "[Epi]:200  |  [Buff_Size]: 25000  |  [Cum_Reward]: 173.0\n"
          ]
        },
        {
          "output_type": "stream",
          "name": "stderr",
          "text": [
            " 70%|███████   | 210/300 [09:50<03:36,  2.40s/it]"
          ]
        },
        {
          "output_type": "stream",
          "name": "stdout",
          "text": [
            "[Epi]:210  |  [Buff_Size]: 25000  |  [Cum_Reward]: 18.0\n"
          ]
        },
        {
          "output_type": "stream",
          "name": "stderr",
          "text": [
            " 73%|███████▎  | 220/300 [10:40<08:46,  6.58s/it]"
          ]
        },
        {
          "output_type": "stream",
          "name": "stdout",
          "text": [
            "[Epi]:220  |  [Buff_Size]: 25000  |  [Cum_Reward]: 450.0\n"
          ]
        },
        {
          "output_type": "stream",
          "name": "stderr",
          "text": [
            " 77%|███████▋  | 230/300 [11:52<08:49,  7.56s/it]"
          ]
        },
        {
          "output_type": "stream",
          "name": "stdout",
          "text": [
            "[Epi]:230  |  [Buff_Size]: 25000  |  [Cum_Reward]: 450.0\n"
          ]
        },
        {
          "output_type": "stream",
          "name": "stderr",
          "text": [
            " 80%|████████  | 240/300 [13:01<06:24,  6.41s/it]"
          ]
        },
        {
          "output_type": "stream",
          "name": "stdout",
          "text": [
            "[Epi]:240  |  [Buff_Size]: 25000  |  [Cum_Reward]: 209.0\n"
          ]
        },
        {
          "output_type": "stream",
          "name": "stderr",
          "text": [
            " 83%|████████▎ | 250/300 [13:25<02:33,  3.07s/it]"
          ]
        },
        {
          "output_type": "stream",
          "name": "stdout",
          "text": [
            "[Epi]:250  |  [Buff_Size]: 25000  |  [Cum_Reward]: 13.0\n"
          ]
        },
        {
          "output_type": "stream",
          "name": "stderr",
          "text": [
            " 87%|████████▋ | 260/300 [14:12<01:57,  2.95s/it]"
          ]
        },
        {
          "output_type": "stream",
          "name": "stdout",
          "text": [
            "[Epi]:260  |  [Buff_Size]: 25000  |  [Cum_Reward]: 17.0\n"
          ]
        },
        {
          "output_type": "stream",
          "name": "stderr",
          "text": [
            " 90%|█████████ | 270/300 [15:06<02:36,  5.22s/it]"
          ]
        },
        {
          "output_type": "stream",
          "name": "stdout",
          "text": [
            "[Epi]:270  |  [Buff_Size]: 25000  |  [Cum_Reward]: 359.0\n"
          ]
        },
        {
          "output_type": "stream",
          "name": "stderr",
          "text": [
            " 93%|█████████▎| 280/300 [16:10<02:30,  7.55s/it]"
          ]
        },
        {
          "output_type": "stream",
          "name": "stdout",
          "text": [
            "[Epi]:280  |  [Buff_Size]: 25000  |  [Cum_Reward]: 450.0\n"
          ]
        },
        {
          "output_type": "stream",
          "name": "stderr",
          "text": [
            " 97%|█████████▋| 290/300 [17:27<01:18,  7.86s/it]"
          ]
        },
        {
          "output_type": "stream",
          "name": "stdout",
          "text": [
            "[Epi]:290  |  [Buff_Size]: 25000  |  [Cum_Reward]: 450.0\n"
          ]
        },
        {
          "output_type": "stream",
          "name": "stderr",
          "text": [
            "100%|██████████| 300/300 [18:10<00:00,  3.63s/it]"
          ]
        },
        {
          "output_type": "stream",
          "name": "stdout",
          "text": [
            "[Epi]:300  |  [Buff_Size]: 25000  |  [Cum_Reward]: 450.0\n"
          ]
        },
        {
          "output_type": "stream",
          "name": "stderr",
          "text": [
            "\n"
          ]
        }
      ]
    },
    {
      "cell_type": "code",
      "source": [
        "fig, ax = plt.subplots(1,1, figsize=(6, 4))\n",
        "\n",
        "ax.plot(range(len(total_reward)), total_reward)\n",
        "\n",
        "plt.show()"
      ],
      "metadata": {
        "colab": {
          "base_uri": "https://localhost:8080/",
          "height": 368
        },
        "id": "seVFNUBpUpIm",
        "outputId": "78d4a5af-3447-4323-a71b-e7a1662e7a4c"
      },
      "execution_count": 27,
      "outputs": [
        {
          "output_type": "display_data",
          "data": {
            "text/plain": [
              "<Figure size 600x400 with 1 Axes>"
            ],
            "image/png": "[encoded data removed]"
          },
          "metadata": {}
        }
      ]
    },
    {
      "cell_type": "markdown",
      "metadata": {
        "id": "5jBXtZ0jXoTU"
      },
      "source": [
        "## The End"
      ]
    }
  ],
  "metadata": {
    "kernelspec": {
      "display_name": "Python 3",
      "name": "python3"
    },
    "language_info": {
      "codemirror_mode": {
        "name": "ipython",
        "version": 3
      },
      "file_extension": ".py",
      "mimetype": "text/x-python",
      "name": "python",
      "nbconvert_exporter": "python",
      "pygments_lexer": "ipython3",
      "version": "3.9.7"
    },
    "orig_nbformat": 4,
    "vscode": {
      "interpreter": {
        "hash": "e4cce46d6be9934fbd27f9ca0432556941ea5bdf741d4f4d64c6cd7f8dfa8fba"
      }
    },
    "colab": {
      "provenance": [],
      "toc_visible": true,
      "gpuType": "A100",
      "machine_shape": "hm"
    },
    "accelerator": "GPU"
  },
  "nbformat": 4,
  "nbformat_minor": 0
}